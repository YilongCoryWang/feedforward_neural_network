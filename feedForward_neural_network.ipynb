{
 "cells": [
  {
   "cell_type": "code",
   "execution_count": 1,
   "id": "ed187f8e-109b-4721-bc09-4940e488d963",
   "metadata": {},
   "outputs": [],
   "source": [
    "import numpy as np\n",
    "import matplotlib.pyplot as plt"
   ]
  },
  {
   "cell_type": "code",
   "execution_count": 10,
   "id": "5c3bb7a3-fbb5-4031-81fc-a5c4db5d7f8d",
   "metadata": {},
   "outputs": [],
   "source": [
    "# structure\n",
    "# inputs\n",
    "#   |\n",
    "# layer1: u = a0 + a1 * x\n",
    "#         y = activation_fn(u)\n",
    "# layer2: v = b0 + b1 * y\n",
    "#         z = activation_fn(v)\n",
    "# outputs\n",
    "\n",
    "# initial parameters\n",
    "a0, a1 = 0.301444, 0.201954    # parameters of layer 1\n",
    "b0, b1 = -0.0844103, 0.409993  # parameters of layer 2"
   ]
  },
  {
   "cell_type": "code",
   "execution_count": 3,
   "id": "f31d344e-aac4-4556-bd5b-9f7f520d4168",
   "metadata": {},
   "outputs": [],
   "source": [
    "# leaning rate\n",
    "beta = 0.1"
   ]
  },
  {
   "cell_type": "code",
   "execution_count": 4,
   "id": "168d2659-72c7-44be-8eb9-c990f2980e62",
   "metadata": {},
   "outputs": [],
   "source": [
    "# inputs values\n",
    "inputs = np.array([0.7853, 1.57])\n",
    "# target values\n",
    "targets = np.array([0.707, 1.0])"
   ]
  },
  {
   "cell_type": "code",
   "execution_count": 7,
   "id": "86b56494-4e8a-47c4-9dfc-bbdea5f46232",
   "metadata": {},
   "outputs": [
    {
     "data": {
      "text/plain": [
       "array([0.707, 1.   ])"
      ]
     },
     "execution_count": 7,
     "metadata": {},
     "output_type": "execute_result"
    }
   ],
   "source": [
    "targets"
   ]
  },
  {
   "cell_type": "code",
   "execution_count": 8,
   "id": "b2492ec6-b5a3-42c8-96d0-07ea97410c34",
   "metadata": {},
   "outputs": [
    {
     "data": {
      "text/plain": [
       "array([0.7853, 1.57  ])"
      ]
     },
     "execution_count": 8,
     "metadata": {},
     "output_type": "execute_result"
    }
   ],
   "source": [
    "inputs"
   ]
  },
  {
   "cell_type": "code",
   "execution_count": 5,
   "id": "f90dd4c4-b408-4148-b2dd-47dab3fe1d0d",
   "metadata": {},
   "outputs": [],
   "source": [
    "# ReLU\n",
    "def activation_fn(x):\n",
    "    return np.maximum(0, x)\n",
    "# derivative of ReLu activation function\n",
    "def activation_deriv(x):\n",
    "    return np.where(x>0, 1, 0)"
   ]
  },
  {
   "cell_type": "code",
   "execution_count": 6,
   "id": "fdd6e088-54e0-40b8-af9c-5a2439c5aa2e",
   "metadata": {},
   "outputs": [],
   "source": [
    "# forward pass\n",
    "def forward(x, a0, a1, b0, b1):\n",
    "    u = a0 + a1 * x\n",
    "    y = activation_fn(u)\n",
    "    v = b0 + b1 * y\n",
    "    z = activation_fn(v)\n",
    "    return u, y, v, z"
   ]
  },
  {
   "cell_type": "markdown",
   "id": "a70d86dd-cc72-434f-8ead-6207e822c90e",
   "metadata": {},
   "source": [
    "Loss function (mean squared error: MSE) = (1/2)*(z-t)^2\n",
    "\n",
    "Derivative's chain rule is applied to simplify calculations:\n",
    "\n",
    "dL/db0 = (dL/dz) * (dz/dv) * (dv/b0) ......1\n",
    "\n",
    "dL/dz = d((z-t)^2) / dz = z-t ......2\n",
    "\n",
    "dz/dv = d(activation_fn(v)) / dv = activation_deriv ......3\n",
    "\n",
    "dv/b0 = d(b0 + b1 * y) / db0 = 1 ......4\n",
    "\n",
    "Substitute expression 2,3,4 into expression 1, and finally got dL/db0"
   ]
  },
  {
   "cell_type": "code",
   "execution_count": 11,
   "id": "9f490fbf-28a0-401c-a6f0-ab7ee23b0ed7",
   "metadata": {},
   "outputs": [],
   "source": [
    "# compute gradiants: ∂L/∂b0, ∂L/∂b1, ∂L/∂a0, ∂L/∂a1\n",
    "def compute_gradients(x, t, u, y, v, z, b1):\n",
    "    dv = (z - t) * activation_deriv(v)       # ∂L/∂v = ∂L/∂z * ∂z/∂v = ∂(1/2 * (z-t)^2)/∂z * ∂(activation_fn(v))/∂v = (z - t) * activation_deriv\n",
    "    db0 = dv                                 # ∂L/∂b0 = ∂L/∂v * ∂v/∂b0 = ∂L/∂v * ∂(b0 + b1 * y)/∂b0 = ∂L/∂v * 1\n",
    "    db1 = dv * y                             # ∂L/∂b1 = ∂L/∂v * ∂v/∂b1 = ∂L/∂v * ∂(b0 + b1 * y)/∂b1 = ∂L/∂v * y\n",
    "    du = dv * b1 * activation_deriv(u)       # ∂L/∂u\n",
    "    da0 = du                                 # ∂L/∂a0\n",
    "    da1 = du * x                             # ∂L/∂a1\n",
    "    return db0, db1, da0, da1"
   ]
  },
  {
   "cell_type": "code",
   "execution_count": 15,
   "id": "bcbff596-3e8c-4e62-a24b-136553667503",
   "metadata": {},
   "outputs": [
    {
     "name": "stdout",
     "output_type": "stream",
     "text": [
      "Epoch   1: MSE = 0.090857\n",
      "Epoch  10: MSE = 0.002023\n",
      "Epoch  20: MSE = 0.001565\n",
      "Epoch  30: MSE = 0.001418\n",
      "Epoch  40: MSE = 0.001284\n",
      "Epoch  50: MSE = 0.001162\n"
     ]
    }
   ],
   "source": [
    "# batch train\n",
    "epochs = 50\n",
    "mse_history = []\n",
    "\n",
    "for epoch in range(epochs):\n",
    "    sum_db0 = sum_db1 = sum_da0 = sum_da1 = 0.0\n",
    "\n",
    "    # sum gradiants\n",
    "    for x, t in zip(inputs, targets):\n",
    "        # use old parameters to predict\n",
    "        u, y, v, z = forward(x, a0, a1, b0, b1)\n",
    "        # Backpropagation\n",
    "        db0, db1, da0, da1 = compute_gradients(x, t, u, y, v, z, b1)\n",
    "        sum_db0 += db0\n",
    "        sum_db1 += db1\n",
    "        sum_da0 += da0\n",
    "        sum_da1 += da1\n",
    "\n",
    "    # average gradiants and calculate new parameters\n",
    "    N = len(inputs)\n",
    "    a0 -= beta * sum_da0 / N\n",
    "    a1 -= beta * sum_da1 / N\n",
    "    b0 -= beta * sum_db0 / N\n",
    "    b1 -= beta * sum_db1 / N\n",
    "\n",
    "    # use new parameters to predict again\n",
    "    outputs = np.array([forward(x, a0, a1, b0, b1)[-1] for x in inputs])\n",
    "    # record loss\n",
    "    mse = np.mean((outputs - targets) ** 2)\n",
    "    mse_history.append(mse)\n",
    "\n",
    "    # print every 10 epochs\n",
    "    if (epoch + 1) % 10 == 0 or epoch == 0:\n",
    "        print(f\"Epoch {epoch+1:3d}: MSE = {mse:.6f}\")"
   ]
  },
  {
   "cell_type": "code",
   "execution_count": 16,
   "id": "cc5ef925-509b-4a21-b64f-b5a99f369196",
   "metadata": {},
   "outputs": [
    {
     "name": "stdout",
     "output_type": "stream",
     "text": [
      "\n",
      "✅ Training complete.\n",
      "Final weights: a0=0.4525, a1=0.4375, b0=0.2225, b1=0.6564\n"
     ]
    },
    {
     "data": {
      "image/png": "[encoded data removed]",
      "text/plain": [
       "<Figure size 640x480 with 1 Axes>"
      ]
     },
     "metadata": {},
     "output_type": "display_data"
    }
   ],
   "source": [
    "# output\n",
    "print(\"\\n✅ Training complete.\")\n",
    "print(f\"Final weights: a0={a0:.4f}, a1={a1:.4f}, b0={b0:.4f}, b1={b1:.4f}\")\n",
    "\n",
    "# visulize losses\n",
    "plt.plot(mse_history, label=\"MSE\")\n",
    "plt.xlabel(\"Epoch\")\n",
    "plt.ylabel(\"Mean Squared Error\")\n",
    "plt.title(f\"Training Loss Curve (LeRU)\")\n",
    "plt.grid(True)\n",
    "plt.legend()\n",
    "plt.tight_layout()\n",
    "plt.show()"
   ]
  },
  {
   "cell_type": "code",
   "execution_count": null,
   "id": "dfbdcc70-04fc-4216-a89a-50d71d2a4b68",
   "metadata": {},
   "outputs": [],
   "source": []
  }
 ],
 "metadata": {
  "kernelspec": {
   "display_name": "Python 3 (ipykernel)",
   "language": "python",
   "name": "python3"
  },
  "language_info": {
   "codemirror_mode": {
    "name": "ipython",
    "version": 3
   },
   "file_extension": ".py",
   "mimetype": "text/x-python",
   "name": "python",
   "nbconvert_exporter": "python",
   "pygments_lexer": "ipython3",
   "version": "3.11.12"
  }
 },
 "nbformat": 4,
 "nbformat_minor": 5
}
