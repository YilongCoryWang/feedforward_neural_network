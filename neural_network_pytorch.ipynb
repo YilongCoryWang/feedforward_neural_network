{
 "cells": [
  {
   "cell_type": "code",
   "execution_count": 1,
   "id": "c840c735-00db-4e00-86ad-2e5caaf017ce",
   "metadata": {},
   "outputs": [
    {
     "data": {
      "text/plain": [
       "'2.7.0'"
      ]
     },
     "execution_count": 1,
     "metadata": {},
     "output_type": "execute_result"
    }
   ],
   "source": [
    "import torch\n",
    "torch.__version__"
   ]
  },
  {
   "cell_type": "code",
   "execution_count": 2,
   "id": "f46acbff-a949-4ab5-97d7-ac48de50d49a",
   "metadata": {},
   "outputs": [
    {
     "data": {
      "text/plain": [
       "True"
      ]
     },
     "execution_count": 2,
     "metadata": {},
     "output_type": "execute_result"
    }
   ],
   "source": [
    "torch.cuda.is_available()"
   ]
  },
  {
   "cell_type": "code",
   "execution_count": 10,
   "id": "078ab1c0-f465-4d59-aa4e-d7979eb54e84",
   "metadata": {},
   "outputs": [
    {
     "name": "stdout",
     "output_type": "stream",
     "text": [
      "torch.float32\n"
     ]
    }
   ],
   "source": [
    "tensor0d = torch.tensor(1.0)\n",
    "print(tensor0d.dtype)"
   ]
  },
  {
   "cell_type": "code",
   "execution_count": 7,
   "id": "4abccfeb-6673-4f31-b868-5e18abda23f0",
   "metadata": {},
   "outputs": [],
   "source": [
    "tensor1d = torch.tensor([1,2,3])"
   ]
  },
  {
   "cell_type": "code",
   "execution_count": 9,
   "id": "470cc68b-49c0-4c09-82b9-54bc754215b4",
   "metadata": {},
   "outputs": [
    {
     "name": "stdout",
     "output_type": "stream",
     "text": [
      "torch.int64\n"
     ]
    }
   ],
   "source": [
    "tensor2d = torch.tensor([[1,2],[3,4]])\n",
    "print(tensor2d.dtype)"
   ]
  },
  {
   "cell_type": "code",
   "execution_count": 13,
   "id": "3579108f-10f3-4263-b8d7-3102c8ea67c7",
   "metadata": {},
   "outputs": [
    {
     "name": "stdout",
     "output_type": "stream",
     "text": [
      "torch.Size([2, 2])\n"
     ]
    }
   ],
   "source": [
    "print(tensor2d.shape)"
   ]
  },
  {
   "cell_type": "code",
   "execution_count": 7,
   "id": "8db72bd3-2022-4680-b5f0-0a3d2e47617b",
   "metadata": {},
   "outputs": [
    {
     "name": "stdout",
     "output_type": "stream",
     "text": [
      "tensor(0.2610, grad_fn=<BinaryCrossEntropyBackward0>)\n",
      "(tensor([-0.2527]),)\n",
      "(tensor([-0.2297]),)\n"
     ]
    }
   ],
   "source": [
    "import torch.nn.functional as F\n",
    "from torch.autograd import grad\n",
    "\n",
    "y = torch.tensor([1.0])\n",
    "x1 = torch.tensor([1.1])\n",
    "w1 = torch.tensor([1.1], requires_grad=True)\n",
    "b = torch.tensor([0.0], requires_grad=True)\n",
    "\n",
    "z = x1 * w1 + b\n",
    "a = torch.sigmoid(z)\n",
    "\n",
    "loss = F.binary_cross_entropy(a, y)\n",
    "\n",
    "grad_L_w1 = grad(loss, w1, retain_graph=True)\n",
    "grad_L_b = grad(loss, b, retain_graph=True)\n",
    "\n",
    "print(loss)\n",
    "print(grad_L_w1)\n",
    "print(grad_L_b)"
   ]
  },
  {
   "cell_type": "code",
   "execution_count": 8,
   "id": "2233c15e-7393-41c8-be53-2abe540c8231",
   "metadata": {},
   "outputs": [],
   "source": [
    "loss.backward()"
   ]
  },
  {
   "cell_type": "code",
   "execution_count": 12,
   "id": "b16278e9-db03-439b-b60d-73e15afc983e",
   "metadata": {},
   "outputs": [
    {
     "name": "stdout",
     "output_type": "stream",
     "text": [
      "tensor([-0.2527])\n",
      "tensor([-0.2297])\n"
     ]
    }
   ],
   "source": [
    "print(w1.grad)\n",
    "print(b.grad)"
   ]
  },
  {
   "cell_type": "code",
   "execution_count": 35,
   "id": "deb2992b-ef9a-483e-b967-d2ac3b0a6a7e",
   "metadata": {},
   "outputs": [
    {
     "name": "stdout",
     "output_type": "stream",
     "text": [
      "2213\n"
     ]
    }
   ],
   "source": [
    "class NeuralNetwork(torch.nn.Module):\n",
    "    def __init__(self, num_inputs, num_outputs):\n",
    "        super().__init__()\n",
    "\n",
    "        self.layers = torch.nn.Sequential(\n",
    "            torch.nn.Linear(num_inputs, 30),\n",
    "            torch.nn.ReLU(),\n",
    "\n",
    "            torch.nn.Linear(30, 20),\n",
    "            torch.nn.ReLU(),\n",
    "\n",
    "            torch.nn.Linear(20, num_outputs)\n",
    "        )\n",
    "\n",
    "    def forward(self, x):\n",
    "        logits = self.layers(x)\n",
    "        return logits\n",
    "\n",
    "torch.manual_seed(123)\n",
    "model = NeuralNetwork(50, 3)\n",
    "\n",
    "num_params = sum(p.numel() for p in model.parameters() if p.requires_grad)\n",
    "print(num_params)"
   ]
  },
  {
   "cell_type": "code",
   "execution_count": 55,
   "id": "b3d53f94-5ec2-4669-a258-ac3e95ce7031",
   "metadata": {},
   "outputs": [
    {
     "name": "stdout",
     "output_type": "stream",
     "text": [
      "tensor([[-1.2000,  3.1000],\n",
      "        [-0.9000,  2.9000],\n",
      "        [-0.5000,  2.6000],\n",
      "        [-2.3000, -1.1000],\n",
      "        [ 2.7000, -1.5000]], device='cuda:0')\n",
      "tensor([0, 0, 0, 1, 1], device='cuda:0')\n"
     ]
    }
   ],
   "source": [
    "device = torch.device(\"cuda\" if torch.cuda.is_available() else \"cpu\")\n",
    "X_train = torch.tensor([\n",
    "    [-1.2, 3.1],\n",
    "    [-0.9, 2.9],\n",
    "    [-0.5, 2.6],\n",
    "    [-2.3, -1.1],\n",
    "    [2.7, -1.5]\n",
    "]).to(device)\n",
    "print(X_train)\n",
    "\n",
    "y_train_tensor = torch.tensor([0,0,0,1,1]).to(device)\n",
    "print(y_train)\n",
    "\n",
    "X_test_tensor = torch.tensor([\n",
    "    [-0.8, 2.8],\n",
    "    [-2.6, -1.6]\n",
    "])\n",
    "X_test = X_test_tensor.to(\"cuda\") if torch.cuda.is_available() else X_test_tensor\n",
    "\n",
    "y_test_tensor = torch.tensor([0,1])\n",
    "y_test = y_test_tensor.to(\"cuda\") if torch.cuda.is_available() else y_test_tensor"
   ]
  },
  {
   "cell_type": "code",
   "execution_count": 48,
   "id": "2e58f312-176b-4ae8-8c1b-90e66a3a2f08",
   "metadata": {},
   "outputs": [
    {
     "name": "stdout",
     "output_type": "stream",
     "text": [
      "5\n",
      "5\n",
      "(tensor([-1.2000,  3.1000], device='cuda:0'), tensor(0, device='cuda:0'))\n",
      "tensor([-1.2000,  3.1000], device='cuda:0')\n",
      "torch.Size([2])\n"
     ]
    }
   ],
   "source": [
    "# dataset\n",
    "from torch.utils.data import Dataset\n",
    "\n",
    "class ToyDataset(Dataset):\n",
    "    def __init__(self, X, y):\n",
    "        self.features = X\n",
    "        self.labels = y\n",
    "\n",
    "    def __getitem__(self, index):\n",
    "        one_x = self.features[index]\n",
    "        one_y = self.labels[index]\n",
    "        return one_x, one_y\n",
    "\n",
    "    def __len__(self):\n",
    "        return self.labels.shape[0]\n",
    "\n",
    "train_ds = ToyDataset(X_train, y_train)\n",
    "test_ds = ToyDataset(X_test, y_test)\n",
    "print(train_ds.__len__())\n",
    "print(len(train_ds))\n",
    "print(train_ds[0])\n",
    "print(train_ds[0][0])\n",
    "print(train_ds[0][0].shape)"
   ]
  },
  {
   "cell_type": "code",
   "execution_count": 49,
   "id": "213401b1-f49b-4cf2-81f7-3c139f7fca06",
   "metadata": {},
   "outputs": [
    {
     "name": "stdout",
     "output_type": "stream",
     "text": [
      "Batch 1: tensor([[-2.3000, -1.1000],\n",
      "        [-0.9000,  2.9000]], device='cuda:0') tensor([1, 0], device='cuda:0')\n",
      "Batch 2: tensor([[-1.2000,  3.1000],\n",
      "        [-0.5000,  2.6000]], device='cuda:0') tensor([0, 0], device='cuda:0')\n"
     ]
    }
   ],
   "source": [
    "# dataloader\n",
    "from torch.utils.data import DataLoader\n",
    "\n",
    "torch.manual_seed(123)\n",
    "\n",
    "train_loader = DataLoader(\n",
    "    dataset=train_ds,\n",
    "    batch_size=2,\n",
    "    shuffle=True,\n",
    "    num_workers=0,\n",
    "    drop_last=True\n",
    ")\n",
    "\n",
    "test_loader = DataLoader(\n",
    "    dataset=test_ds,\n",
    "    batch_size=2,\n",
    "    shuffle=False,\n",
    "    num_workers=0)\n",
    "\n",
    "for idx, (x, y) in enumerate(train_loader):\n",
    "    print(f\"Batch {idx+1}:\", x, y)"
   ]
  },
  {
   "cell_type": "code",
   "execution_count": 72,
   "id": "197f2e0a-9873-42e6-a297-60eb4666a6a0",
   "metadata": {},
   "outputs": [
    {
     "name": "stdout",
     "output_type": "stream",
     "text": [
      "Epoch: 001/010 | Batch: 001/002 | Train Loss: 0.75\n",
      "Epoch: 001/010 | Batch: 002/002 | Train Loss: 0.85\n",
      "Epoch 001 Completed | Avg Train Loss: 0.3764\n",
      "Epoch: 002/010 | Batch: 001/002 | Train Loss: 0.48\n",
      "Epoch: 002/010 | Batch: 002/002 | Train Loss: 0.07\n",
      "Epoch 002 Completed | Avg Train Loss: 0.0773\n",
      "Epoch: 003/010 | Batch: 001/002 | Train Loss: 0.01\n",
      "Epoch: 003/010 | Batch: 002/002 | Train Loss: 0.15\n",
      "Epoch 003 Completed | Avg Train Loss: 0.0209\n",
      "Epoch: 004/010 | Batch: 001/002 | Train Loss: 0.01\n",
      "Epoch: 004/010 | Batch: 002/002 | Train Loss: 0.03\n",
      "Epoch 004 Completed | Avg Train Loss: 0.0102\n",
      "Epoch: 005/010 | Batch: 001/002 | Train Loss: 0.01\n",
      "Epoch: 005/010 | Batch: 002/002 | Train Loss: 0.01\n",
      "Epoch 005 Completed | Avg Train Loss: 0.0096\n",
      "Epoch: 006/010 | Batch: 001/002 | Train Loss: 0.01\n",
      "Epoch: 006/010 | Batch: 002/002 | Train Loss: 0.01\n",
      "Epoch 006 Completed | Avg Train Loss: 0.0055\n",
      "Epoch: 007/010 | Batch: 001/002 | Train Loss: 0.01\n",
      "Epoch: 007/010 | Batch: 002/002 | Train Loss: 0.00\n",
      "Epoch 007 Completed | Avg Train Loss: 0.0051\n",
      "Epoch: 008/010 | Batch: 001/002 | Train Loss: 0.01\n",
      "Epoch: 008/010 | Batch: 002/002 | Train Loss: 0.00\n",
      "Epoch 008 Completed | Avg Train Loss: 0.0034\n",
      "Epoch: 009/010 | Batch: 001/002 | Train Loss: 0.00\n",
      "Epoch: 009/010 | Batch: 002/002 | Train Loss: 0.01\n",
      "Epoch 009 Completed | Avg Train Loss: 0.0041\n",
      "Epoch: 010/010 | Batch: 001/002 | Train Loss: 0.01\n",
      "Epoch: 010/010 | Batch: 002/002 | Train Loss: 0.00\n",
      "Epoch 010 Completed | Avg Train Loss: 0.0030\n",
      "loss_history [0.3764061778783798, 0.07734443061053753, 0.02087648306041956, 0.010234460700303316, 0.009569779736921191, 0.005463037989102304, 0.005071368417702615, 0.0033546240301802754, 0.004101122263818979, 0.002979632990900427]\n",
      "tensor([[ 2.7346, -4.3244],\n",
      "        [ 2.5240, -4.0106],\n",
      "        [ 2.2175, -3.5488],\n",
      "        [-2.8201,  2.5537],\n",
      "        [-2.6342,  2.6652]], device='cuda:0')\n",
      "tensor([[    0.9991,     0.0009],\n",
      "        [    0.9985,     0.0015],\n",
      "        [    0.9969,     0.0031],\n",
      "        [    0.0046,     0.9954],\n",
      "        [    0.0050,     0.9950]], device='cuda:0')\n",
      "tensor([0, 0, 0, 1, 1], device='cuda:0')\n"
     ]
    },
    {
     "data": {
      "text/plain": [
       "tensor(5, device='cuda:0')"
      ]
     },
     "execution_count": 72,
     "metadata": {},
     "output_type": "execute_result"
    }
   ],
   "source": [
    "import torch.nn.functional as F\n",
    "torch.manual_seed(123)\n",
    "model = NeuralNetwork(num_inputs=2, num_outputs=2).to(device)\n",
    "# lr = learning rate\n",
    "# SGD: Stochastic Gradient Descent - θ=θ−lr×∇θ​L(θ)\n",
    "optimizer = torch.optim.SGD(model.parameters(), lr=0.5)\n",
    "num_epochs = 10\n",
    "loss_history = []\n",
    "for epoch in range(num_epochs):\n",
    "    model.train()\n",
    "    for batch_idx, (features, labels) in enumerate(train_loader):\n",
    "        # optimizer和loss没有直接参数传递，它们的配合是：PyTorch 中的每个 tensor（只要 requires_grad=True）在计算过程中都会构建一个 计算图（computational graph）。\n",
    "        # 执行 loss.backward() 时，PyTorch 会自动根据这个图，计算每个参数的梯度，并保存在对应的 .grad 属性中。\n",
    "        # 所以：loss.backward() 会对 model.parameters() 中的每个参数 p 赋值：\n",
    "        # p.grad = ∂loss/∂p\n",
    "        # optimizer.step() 做的事情是：\n",
    "        # for p in model.parameters():\n",
    "        #    p = p - lr * p.grad\n",
    "        # 🎯 所以，optimizer.step() 不用“主动”从 backward() 获取结果，而是直接从参数的 .grad 属性读取它们的梯度。\n",
    "        \n",
    "        # 1. 前向传播\n",
    "        logits=model(features)\n",
    "        \n",
    "        # 2. 计算损失\n",
    "        loss=F.cross_entropy(logits, labels)\n",
    "\n",
    "        # 3. 清除旧梯度\n",
    "        optimizer.zero_grad()\n",
    "\n",
    "        # 4. 把所有模型参数的 .grad 填上梯度\n",
    "        loss.backward()\n",
    "        \n",
    "        # 5. 遍历每个参数，根据 .grad 去更新参数值\n",
    "        optimizer.step()\n",
    "\n",
    "        print(f\"Epoch: {epoch+1:03d}/{num_epochs:03d}\"\n",
    "            f\" | Batch: {batch_idx+1:03d}/{len(train_loader):03d}\"\n",
    "            f\" | Train Loss: {loss:.2f}\")\n",
    "   \n",
    "    model.eval()\n",
    "    \n",
    "    total_loss = 0.0\n",
    "    total_samples = 0\n",
    "    with torch.no_grad():\n",
    "        for features, labels in train_loader:\n",
    "            logits = model(features)\n",
    "            loss = F.cross_entropy(logits, labels, reduction='sum')  # 先求每个样本的总损失\n",
    "            total_loss += loss.item()\n",
    "            total_samples += labels.size(0)\n",
    "\n",
    "    avg_loss = total_loss / total_samples\n",
    "    loss_history.append(avg_loss)\n",
    "    print(f\"Epoch {epoch+1:03d} Completed | Avg Train Loss: {avg_loss:.4f}\")\n",
    "\n",
    "print(\"loss_history\", loss_history)\n",
    "\n",
    "# use trained model to predict\n",
    "with torch.no_grad():\n",
    "    X_digits = model(X_train)\n",
    "print(X_digits)\n",
    "\n",
    "torch.set_printoptions(sci_mode=False)\n",
    "probas = torch.softmax(X_digits, dim=1)\n",
    "print(probas)\n",
    "\n",
    "predictions = torch.argmax(X_digits, dim=1)\n",
    "print(predictions)\n",
    "\n",
    "predictions == y_train\n",
    "torch.sum(predictions == y_train)"
   ]
  },
  {
   "cell_type": "code",
   "execution_count": 73,
   "id": "6c04ea4d-0652-4ee5-8f4d-6a86b06c4831",
   "metadata": {},
   "outputs": [
    {
     "name": "stdout",
     "output_type": "stream",
     "text": [
      "\n",
      "✅ Training complete.\n"
     ]
    },
    {
     "data": {
      "image/png": "[encoded data removed]",
      "text/plain": [
       "<Figure size 640x480 with 1 Axes>"
      ]
     },
     "metadata": {},
     "output_type": "display_data"
    }
   ],
   "source": [
    "# output\n",
    "print(\"\\n✅ Training complete.\")\n",
    "\n",
    "# visulize losses\n",
    "import matplotlib.pyplot as plt\n",
    "plt.plot(loss_history, label=\"Loss\")\n",
    "plt.xlabel(\"Epoch\")\n",
    "plt.ylabel(\"Cross Entropy Loss\")\n",
    "plt.title(f\"Training Loss Curve (Cross Entropy)\")\n",
    "plt.grid(True)\n",
    "plt.legend()\n",
    "plt.tight_layout()\n",
    "plt.show()"
   ]
  },
  {
   "cell_type": "code",
   "execution_count": null,
   "id": "91d3ecef-3f86-4086-96ba-2e333491d6b0",
   "metadata": {},
   "outputs": [],
   "source": []
  }
 ],
 "metadata": {
  "kernelspec": {
   "display_name": "Python 3 (ipykernel)",
   "language": "python",
   "name": "python3"
  },
  "language_info": {
   "codemirror_mode": {
    "name": "ipython",
    "version": 3
   },
   "file_extension": ".py",
   "mimetype": "text/x-python",
   "name": "python",
   "nbconvert_exporter": "python",
   "pygments_lexer": "ipython3",
   "version": "3.11.12"
  }
 },
 "nbformat": 4,
 "nbformat_minor": 5
}
